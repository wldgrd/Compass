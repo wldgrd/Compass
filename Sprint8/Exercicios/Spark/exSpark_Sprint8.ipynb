{
  "cells": [
    {
      "cell_type": "code",
      "execution_count": 3,
      "metadata": {
        "colab": {
          "base_uri": "https://localhost:8080/"
        },
        "id": "wAly6vbjkd-N",
        "outputId": "81309225-96a1-48ca-b166-3dc7be0803c8"
      },
      "outputs": [
        {
          "name": "stdout",
          "output_type": "stream",
          "text": [
            "Requirement already satisfied: pyspark in /usr/local/lib/python3.11/dist-packages (3.5.4)\n",
            "Requirement already satisfied: py4j==0.10.9.7 in /usr/local/lib/python3.11/dist-packages (from pyspark) (0.10.9.7)\n"
          ]
        }
      ],
      "source": [
        "pip install pyspark"
      ]
    },
    {
      "cell_type": "code",
      "execution_count": 4,
      "metadata": {
        "id": "1HjZHvY0XH-J"
      },
      "outputs": [],
      "source": [
        "from pyspark.sql import SparkSession\n",
        "from pyspark import SparkContext, SQLContext"
      ]
    },
    {
      "cell_type": "code",
      "execution_count": 11,
      "metadata": {
        "id": "lWfJo-UPjtYT"
      },
      "outputs": [],
      "source": [
        "spark = SparkSession.builder.master(\"local[*]\").appName(\"Exercicio Intro\") \\\n",
        "    .getOrCreate()\n"
      ]
    },
    {
      "cell_type": "code",
      "execution_count": 19,
      "metadata": {
        "id": "stoeAkVHlbqw"
      },
      "outputs": [],
      "source": [
        "df_nomes = spark.read.csv(\"nomes_aleatorios.txt\", header=False, inferSchema=False)"
      ]
    },
    {
      "cell_type": "code",
      "execution_count": 22,
      "metadata": {
        "id": "MJJ3ZZtkm9O5"
      },
      "outputs": [],
      "source": [
        "df_nomes = df_nomes.withColumnRenamed(\"_c0\", \"Nomes\")"
      ]
    },
    {
      "cell_type": "code",
      "execution_count": 23,
      "metadata": {
        "colab": {
          "base_uri": "https://localhost:8080/"
        },
        "id": "7DDtJEMIlodx",
        "outputId": "7962d124-1fa3-4cfd-a32c-d6f861410842"
      },
      "outputs": [
        {
          "name": "stdout",
          "output_type": "stream",
          "text": [
            "+----------------+\n",
            "|           Nomes|\n",
            "+----------------+\n",
            "|  Frances Bennet|\n",
            "|   Jamie Russell|\n",
            "|  Edward Kistler|\n",
            "|   Sheila Maurer|\n",
            "|Donald Golightly|\n",
            "+----------------+\n",
            "only showing top 5 rows\n",
            "\n"
          ]
        }
      ],
      "source": [
        "df_nomes.show(5)"
      ]
    },
    {
      "cell_type": "code",
      "execution_count": 24,
      "metadata": {
        "colab": {
          "base_uri": "https://localhost:8080/"
        },
        "id": "UMTsjGf6mkGY",
        "outputId": "d94100a5-77f8-49b6-a31e-b72c3dcb9390"
      },
      "outputs": [
        {
          "name": "stdout",
          "output_type": "stream",
          "text": [
            "root\n",
            " |-- Nomes: string (nullable = true)\n",
            "\n"
          ]
        }
      ],
      "source": [
        "df_nomes.printSchema()"
      ]
    },
    {
      "cell_type": "code",
      "execution_count": 25,
      "metadata": {
        "colab": {
          "base_uri": "https://localhost:8080/"
        },
        "id": "drhrIABhnRWw",
        "outputId": "61734052-0030-4020-f3c8-6187ea2a46c7"
      },
      "outputs": [
        {
          "name": "stdout",
          "output_type": "stream",
          "text": [
            "+-----------------+\n",
            "|            Nomes|\n",
            "+-----------------+\n",
            "|   Frances Bennet|\n",
            "|    Jamie Russell|\n",
            "|   Edward Kistler|\n",
            "|    Sheila Maurer|\n",
            "| Donald Golightly|\n",
            "|       David Gray|\n",
            "|      Joy Bennett|\n",
            "|      Paul Kriese|\n",
            "|Berniece Ornellas|\n",
            "|    Brian Farrell|\n",
            "+-----------------+\n",
            "only showing top 10 rows\n",
            "\n"
          ]
        }
      ],
      "source": [
        "df_nomes.show(10)"
      ]
    },
    {
      "cell_type": "code",
      "execution_count": 27,
      "metadata": {
        "id": "SDG079UtnUyP"
      },
      "outputs": [],
      "source": [
        "from pyspark.sql import functions as F\n",
        "\n",
        "escolaridades = [\"Fundamental\", \"Médio\", \"Superior\"]\n",
        "\n",
        "df_nomes = df_nomes.withColumn(\n",
        "    \"Escolaridade\",\n",
        "    F.when(F.round(F.rand() * 2) == 0, F.lit(escolaridades[0]))\n",
        "     .when(F.round(F.rand() * 2) == 1, F.lit(escolaridades[1]))\n",
        "     .otherwise(F.lit(escolaridades[2]))\n",
        ")"
      ]
    },
    {
      "cell_type": "code",
      "execution_count": 28,
      "metadata": {
        "colab": {
          "base_uri": "https://localhost:8080/"
        },
        "id": "w1THrjtDwhMA",
        "outputId": "da56be80-1d0c-4fcd-f6db-a9214a98cb1e"
      },
      "outputs": [
        {
          "name": "stdout",
          "output_type": "stream",
          "text": [
            "+-----------------+------------+\n",
            "|            Nomes|Escolaridade|\n",
            "+-----------------+------------+\n",
            "|   Frances Bennet|       Médio|\n",
            "|    Jamie Russell| Fundamental|\n",
            "|   Edward Kistler|       Médio|\n",
            "|    Sheila Maurer| Fundamental|\n",
            "| Donald Golightly|    Superior|\n",
            "|       David Gray|    Superior|\n",
            "|      Joy Bennett|    Superior|\n",
            "|      Paul Kriese| Fundamental|\n",
            "|Berniece Ornellas|    Superior|\n",
            "|    Brian Farrell|       Médio|\n",
            "+-----------------+------------+\n",
            "only showing top 10 rows\n",
            "\n"
          ]
        }
      ],
      "source": [
        "df_nomes.show(10)"
      ]
    },
    {
      "cell_type": "code",
      "execution_count": 82,
      "metadata": {
        "id": "d-fUgN57y0Cu"
      },
      "outputs": [],
      "source": [
        "# Lista de países sul-americanos\n",
        "paises_sul_americanos = [\n",
        "    'Argentina', 'Bolívia', 'Brasil', 'Chile', 'Colômbia', 'Equador', 'Guiana', 'França (Guiana Francesa)', \n",
        "    'Paraguai', 'Peru', 'Suriname', 'Uruguai', 'Venezuela'\n",
        "]\n",
        "\n",
        "# Converter a lista de países para uma string compatível com a função `array` do Spark\n",
        "paises_array = \", \".join([f'\"{pais}\"' for pais in paises_sul_americanos])\n",
        "\n",
        "# Criar a nova coluna \"País\" com valores aleatórios da lista\n",
        "df_nomes = df_nomes.withColumn(\n",
        "    \"País\",\n",
        "    F.expr(f\"array({paises_array})[cast(rand() * {len(paises_sul_americanos)} as int) + 1]\")\n",
        ")\n"
      ]
    },
    {
      "cell_type": "code",
      "execution_count": 83,
      "metadata": {
        "colab": {
          "base_uri": "https://localhost:8080/"
        },
        "id": "WGHbpU6a0goR",
        "outputId": "3c45be50-3c1b-471e-ad71-0d4f9e87f08f"
      },
      "outputs": [
        {
          "name": "stdout",
          "output_type": "stream",
          "text": [
            "+-----------------+------------+---------+-------------+\n",
            "|            Nomes|Escolaridade|     País|AnoNascimento|\n",
            "+-----------------+------------+---------+-------------+\n",
            "|   Frances Bennet|       Médio| Colômbia|         1965|\n",
            "|    Jamie Russell| Fundamental| Paraguai|         1986|\n",
            "|   Edward Kistler|       Médio|Venezuela|         1989|\n",
            "|    Sheila Maurer| Fundamental| Paraguai|         1996|\n",
            "| Donald Golightly|    Superior|  Bolívia|         1962|\n",
            "|       David Gray|    Superior|   Brasil|         1948|\n",
            "|      Joy Bennett|    Superior|     Peru|         1963|\n",
            "|      Paul Kriese| Fundamental| Colômbia|         1994|\n",
            "|Berniece Ornellas|    Superior|Venezuela|         1997|\n",
            "|    Brian Farrell|       Médio|Venezuela|         1993|\n",
            "+-----------------+------------+---------+-------------+\n",
            "only showing top 10 rows\n",
            "\n"
          ]
        }
      ],
      "source": [
        "df_nomes.show(10)"
      ]
    },
    {
      "cell_type": "code",
      "execution_count": 84,
      "metadata": {
        "id": "YhbLiWAw2Rpt"
      },
      "outputs": [],
      "source": [
        "df_nomes = df_nomes.withColumn(\n",
        "    \"AnoNascimento\",\n",
        "    F.round(F.rand() * (2010 - 1945) + 1945).cast(\"int\")\n",
        ")\n"
      ]
    },
    {
      "cell_type": "code",
      "execution_count": 85,
      "metadata": {
        "colab": {
          "base_uri": "https://localhost:8080/"
        },
        "id": "RXPylOw02pY9",
        "outputId": "05051847-b645-4aa2-a0f8-aec6ef32ff86"
      },
      "outputs": [
        {
          "name": "stdout",
          "output_type": "stream",
          "text": [
            "+-----------------+------------+---------+-------------+\n",
            "|            Nomes|Escolaridade|     País|AnoNascimento|\n",
            "+-----------------+------------+---------+-------------+\n",
            "|   Frances Bennet|       Médio| Colômbia|         1948|\n",
            "|    Jamie Russell| Fundamental| Paraguai|         1982|\n",
            "|   Edward Kistler|       Médio|Venezuela|         2002|\n",
            "|    Sheila Maurer| Fundamental| Paraguai|         1983|\n",
            "| Donald Golightly|    Superior|  Bolívia|         1950|\n",
            "|       David Gray|    Superior|   Brasil|         1997|\n",
            "|      Joy Bennett|    Superior|     Peru|         1986|\n",
            "|      Paul Kriese| Fundamental| Colômbia|         1953|\n",
            "|Berniece Ornellas|    Superior|Venezuela|         1955|\n",
            "|    Brian Farrell|       Médio|Venezuela|         2003|\n",
            "+-----------------+------------+---------+-------------+\n",
            "only showing top 10 rows\n",
            "\n"
          ]
        }
      ],
      "source": [
        "df_nomes.show(10)"
      ]
    },
    {
      "cell_type": "code",
      "execution_count": 86,
      "metadata": {
        "id": "E85koTnX-5Ip"
      },
      "outputs": [],
      "source": [
        "df_select = df_nomes.filter(F.col(\"AnoNascimento\") >= 2001)"
      ]
    },
    {
      "cell_type": "code",
      "execution_count": 87,
      "metadata": {
        "colab": {
          "base_uri": "https://localhost:8080/"
        },
        "id": "rUHgkj5i_9Ns",
        "outputId": "66dc6981-d834-41ae-fb3e-63ebe4c954e0"
      },
      "outputs": [
        {
          "name": "stdout",
          "output_type": "stream",
          "text": [
            "+----------------+------------+---------+-------------+\n",
            "|           Nomes|Escolaridade|     País|AnoNascimento|\n",
            "+----------------+------------+---------+-------------+\n",
            "|  Edward Kistler|       Médio|Venezuela|         2002|\n",
            "|   Brian Farrell|       Médio|Venezuela|         2003|\n",
            "|    David Medina|       Médio|     NULL|         2009|\n",
            "|     Albert Leef|       Médio|   Brasil|         2006|\n",
            "|         Lois Ly|    Superior|   Guiana|         2010|\n",
            "|Wallace Mitchell| Fundamental| Paraguai|         2010|\n",
            "| Jerry Chynoweth|       Médio|  Uruguai|         2007|\n",
            "|   Lynne Dustman| Fundamental|  Equador|         2005|\n",
            "| Katherine Moore|    Superior|    Chile|         2008|\n",
            "|     Rita Walter| Fundamental|  Bolívia|         2002|\n",
            "+----------------+------------+---------+-------------+\n",
            "only showing top 10 rows\n",
            "\n"
          ]
        }
      ],
      "source": [
        "df_select.show(10)"
      ]
    },
    {
      "cell_type": "code",
      "execution_count": 88,
      "metadata": {
        "colab": {
          "base_uri": "https://localhost:8080/"
        },
        "id": "QCgpVSzi_UPU",
        "outputId": "7f8dfe7f-eddc-421a-9811-b605b43c2cb1"
      },
      "outputs": [
        {
          "name": "stdout",
          "output_type": "stream",
          "text": [
            "+----------------+\n",
            "|           Nomes|\n",
            "+----------------+\n",
            "|  Edward Kistler|\n",
            "|   Brian Farrell|\n",
            "|    David Medina|\n",
            "|     Albert Leef|\n",
            "|         Lois Ly|\n",
            "|Wallace Mitchell|\n",
            "| Jerry Chynoweth|\n",
            "|   Lynne Dustman|\n",
            "| Katherine Moore|\n",
            "|     Rita Walter|\n",
            "+----------------+\n",
            "only showing top 10 rows\n",
            "\n"
          ]
        }
      ],
      "source": [
        "df_select.select(\"Nomes\").show(10)"
      ]
    },
    {
      "cell_type": "code",
      "execution_count": 89,
      "metadata": {
        "colab": {
          "base_uri": "https://localhost:8080/"
        },
        "id": "gVk2IsHHAExu",
        "outputId": "4b49fefd-07ce-4804-9a43-53b66d849135"
      },
      "outputs": [
        {
          "name": "stdout",
          "output_type": "stream",
          "text": [
            "+-----------------+\n",
            "|            Nomes|\n",
            "+-----------------+\n",
            "|   Frances Bennet|\n",
            "|    Jamie Russell|\n",
            "|   Edward Kistler|\n",
            "|    Sheila Maurer|\n",
            "| Donald Golightly|\n",
            "|       David Gray|\n",
            "|      Joy Bennett|\n",
            "|      Paul Kriese|\n",
            "|Berniece Ornellas|\n",
            "|    Brian Farrell|\n",
            "+-----------------+\n",
            "only showing top 10 rows\n",
            "\n"
          ]
        }
      ],
      "source": [
        "df_nomes.createOrReplaceTempView(\"pessoas\")\n",
        "spark.sql(\"select Nomes from pessoas\").show(10)\n"
      ]
    },
    {
      "cell_type": "code",
      "execution_count": 90,
      "metadata": {
        "colab": {
          "base_uri": "https://localhost:8080/"
        },
        "id": "S6i1IgwWAxr8",
        "outputId": "7367758d-490f-47a8-fe76-e7afa9a8527f"
      },
      "outputs": [
        {
          "data": {
            "text/plain": [
              "2306498"
            ]
          },
          "execution_count": 90,
          "metadata": {},
          "output_type": "execute_result"
        }
      ],
      "source": [
        "df_nomes.filter((F.col(\"AnoNascimento\") >= 1980) & (F.col(\"AnoNascimento\") <= 1994)).count()"
      ]
    },
    {
      "cell_type": "code",
      "execution_count": 91,
      "metadata": {
        "colab": {
          "base_uri": "https://localhost:8080/"
        },
        "id": "bf5w7E_dBwaO",
        "outputId": "200ea86f-3026-4f7a-a5af-67f141f4cd18"
      },
      "outputs": [
        {
          "name": "stdout",
          "output_type": "stream",
          "text": [
            "+------------+\n",
            "|count(Nomes)|\n",
            "+------------+\n",
            "|     2306498|\n",
            "+------------+\n",
            "\n"
          ]
        }
      ],
      "source": [
        "result = spark.sql(\"select count(Nomes) from pessoas where AnoNascimento between 1980 and 1994\")\n",
        "result.show()"
      ]
    },
    {
      "cell_type": "code",
      "execution_count": 92,
      "metadata": {
        "id": "T1WavWAvEbLC"
      },
      "outputs": [],
      "source": [
        "df_nomes = df_nomes.withColumn(\n",
        "    \"Geração\",\n",
        "    F.when((F.col(\"AnoNascimento\") >= 1944) & (F.col(\"AnoNascimento\") <= 1964), \"Baby Boomers\")\n",
        "    .when((F.col(\"AnoNascimento\") >= 1965) & (F.col(\"AnoNascimento\") <= 1979), \"Geração X\")\n",
        "    .when((F.col(\"AnoNascimento\") >= 1980) & (F.col(\"AnoNascimento\") <= 1994), \"Millennials\")\n",
        "    .when((F.col(\"AnoNascimento\") >= 1995) & (F.col(\"AnoNascimento\") <= 2015), \"Geração Z\")\n",
        "    .otherwise(\"Outra\")\n",
        ")\n",
        "\n",
        "df_geracoes = df_nomes.groupBy(\"País\", \"Geração\").agg(F.count(\"*\").alias(\"Quantidade\"))\n",
        "df_geracoes = df_geracoes.orderBy(\"País\", \"Geração\", \"Quantidade\")\n",
        "df_nomes = df_nomes.drop(\"Geração\")"
      ]
    },
    {
      "cell_type": "code",
      "execution_count": 93,
      "metadata": {
        "colab": {
          "base_uri": "https://localhost:8080/"
        },
        "id": "R91th2AyGhtg",
        "outputId": "9a5ced56-95e8-4cb1-a7d0-9a7e78dde50c"
      },
      "outputs": [
        {
          "name": "stdout",
          "output_type": "stream",
          "text": [
            "+-----------------+------------+---------+-------------+\n",
            "|            Nomes|Escolaridade|     País|AnoNascimento|\n",
            "+-----------------+------------+---------+-------------+\n",
            "|   Frances Bennet|       Médio| Colômbia|         1948|\n",
            "|    Jamie Russell| Fundamental| Paraguai|         1982|\n",
            "|   Edward Kistler|       Médio|Venezuela|         2002|\n",
            "|    Sheila Maurer| Fundamental| Paraguai|         1983|\n",
            "| Donald Golightly|    Superior|  Bolívia|         1950|\n",
            "|       David Gray|    Superior|   Brasil|         1997|\n",
            "|      Joy Bennett|    Superior|     Peru|         1986|\n",
            "|      Paul Kriese| Fundamental| Colômbia|         1953|\n",
            "|Berniece Ornellas|    Superior|Venezuela|         1955|\n",
            "|    Brian Farrell|       Médio|Venezuela|         2003|\n",
            "+-----------------+------------+---------+-------------+\n",
            "only showing top 10 rows\n",
            "\n"
          ]
        }
      ],
      "source": [
        "df_nomes.show(10)"
      ]
    },
    {
      "cell_type": "code",
      "execution_count": 94,
      "metadata": {
        "colab": {
          "base_uri": "https://localhost:8080/"
        },
        "id": "de7tXEpeGkiL",
        "outputId": "1837d5c3-4b7f-4877-a39f-8b42222bc89b"
      },
      "outputs": [
        {
          "name": "stdout",
          "output_type": "stream",
          "text": [
            "+--------------------+------------+----------+\n",
            "|                País|     Geração|Quantidade|\n",
            "+--------------------+------------+----------+\n",
            "|                NULL|Baby Boomers|    230698|\n",
            "|                NULL|   Geração X|    177677|\n",
            "|                NULL|   Geração Z|    183943|\n",
            "|                NULL| Millennials|    177312|\n",
            "|             Bolívia|Baby Boomers|    230795|\n",
            "|             Bolívia|   Geração X|    177182|\n",
            "|             Bolívia|   Geração Z|    183504|\n",
            "|             Bolívia| Millennials|    177763|\n",
            "|              Brasil|Baby Boomers|    230461|\n",
            "|              Brasil|   Geração X|    177604|\n",
            "|              Brasil|   Geração Z|    183423|\n",
            "|              Brasil| Millennials|    177599|\n",
            "|               Chile|Baby Boomers|    230540|\n",
            "|               Chile|   Geração X|    177915|\n",
            "|               Chile|   Geração Z|    183452|\n",
            "|               Chile| Millennials|    176838|\n",
            "|            Colômbia|Baby Boomers|    231660|\n",
            "|            Colômbia|   Geração X|    176939|\n",
            "|            Colômbia|   Geração Z|    183270|\n",
            "|            Colômbia| Millennials|    177570|\n",
            "|             Equador|Baby Boomers|    231090|\n",
            "|             Equador|   Geração X|    177024|\n",
            "|             Equador|   Geração Z|    183209|\n",
            "|             Equador| Millennials|    177194|\n",
            "|França (Guiana Fr...|Baby Boomers|    231296|\n",
            "|França (Guiana Fr...|   Geração X|    177732|\n",
            "|França (Guiana Fr...|   Geração Z|    183204|\n",
            "|França (Guiana Fr...| Millennials|    177321|\n",
            "|              Guiana|Baby Boomers|    230512|\n",
            "|              Guiana|   Geração X|    176855|\n",
            "|              Guiana|   Geração Z|    184385|\n",
            "|              Guiana| Millennials|    177452|\n",
            "|            Paraguai|Baby Boomers|    230918|\n",
            "|            Paraguai|   Geração X|    177541|\n",
            "|            Paraguai|   Geração Z|    182916|\n",
            "|            Paraguai| Millennials|    177004|\n",
            "|                Peru|Baby Boomers|    230868|\n",
            "|                Peru|   Geração X|    177718|\n",
            "|                Peru|   Geração Z|    183148|\n",
            "|                Peru| Millennials|    177775|\n",
            "|            Suriname|Baby Boomers|    230567|\n",
            "|            Suriname|   Geração X|    177668|\n",
            "|            Suriname|   Geração Z|    183985|\n",
            "|            Suriname| Millennials|    177449|\n",
            "|             Uruguai|Baby Boomers|    230479|\n",
            "|             Uruguai|   Geração X|    177980|\n",
            "|             Uruguai|   Geração Z|    183310|\n",
            "|             Uruguai| Millennials|    177348|\n",
            "|           Venezuela|Baby Boomers|    230765|\n",
            "|           Venezuela|   Geração X|    177651|\n",
            "|           Venezuela|   Geração Z|    183618|\n",
            "|           Venezuela| Millennials|    177873|\n",
            "+--------------------+------------+----------+\n",
            "\n"
          ]
        }
      ],
      "source": [
        "df_geracoes.show(100)"
      ]
    }
  ],
  "metadata": {
    "colab": {
      "provenance": []
    },
    "kernelspec": {
      "display_name": "Python 3",
      "name": "python3"
    },
    "language_info": {
      "name": "python"
    }
  },
  "nbformat": 4,
  "nbformat_minor": 0
}
