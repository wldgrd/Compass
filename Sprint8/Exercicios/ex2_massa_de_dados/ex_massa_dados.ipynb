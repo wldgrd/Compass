{
 "cells": [
  {
   "cell_type": "code",
   "execution_count": 1,
   "id": "6502ed6e-5109-4bd8-b401-9f6afaf9583d",
   "metadata": {},
   "outputs": [
    {
     "name": "stdout",
     "output_type": "stream",
     "text": [
      "[315, 248, 232, 286, 287, 270, 407, 209, 361, 200, 382, 232, 403, 355, 420, 429, 411, 434, 405, 252, 230, 438, 321, 333, 386, 354, 434, 294, 444, 272, 278, 257, 259, 327, 397, 280, 433, 204, 337, 312, 263, 394, 327, 339, 284, 438, 278, 448, 419, 449, 305, 432, 202, 447, 340, 441, 448, 360, 421, 279, 357, 202, 225, 437, 334, 268, 438, 401, 291, 322, 347, 306, 398, 440, 395, 241, 200, 436, 335, 223, 377, 399, 410, 392, 451, 261, 320, 283, 451, 382, 345, 366, 396, 256, 379, 363, 321, 211, 213, 214, 369, 280, 413, 396, 308, 427, 411, 338, 293, 334, 432, 372, 420, 366, 312, 235, 332, 264, 315, 423, 358, 353, 289, 401, 338, 357, 370, 407, 245, 403, 377, 228, 251, 238, 426, 343, 429, 225, 298, 428, 296, 243, 382, 316, 213, 429, 361, 417, 248, 255, 274, 435, 277, 413, 322, 385, 252, 322, 292, 424, 446, 370, 358, 225, 413, 339, 298, 304, 449, 367, 292, 292, 278, 249, 351, 444, 436, 389, 220, 387, 428, 446, 307, 244, 223, 235, 247, 451, 378, 374, 233, 372, 254, 379, 420, 210, 383, 212, 339, 263, 418, 294, 446, 440, 256, 447, 439, 360, 447, 415, 396, 274, 231, 335, 387, 429, 389, 290, 257, 320, 214, 276, 232, 280, 205, 317, 243, 314, 213, 306, 376, 444, 289, 316, 253, 408, 390, 372, 225, 324, 433, 419, 278, 248, 258, 433, 347, 274, 449, 405]\n"
     ]
    }
   ],
   "source": [
    "# Etapa - 1\n",
    "import random\n",
    "numeros = [random.randint(200,452) for num in range(250)]\n",
    "numeros.reverse()\n",
    "print(numeros)"
   ]
  },
  {
   "cell_type": "code",
   "execution_count": 5,
   "id": "9c5d752e-64b8-4f42-a619-74c5b8a865d7",
   "metadata": {
    "scrolled": true
   },
   "outputs": [
    {
     "name": "stdout",
     "output_type": "stream",
     "text": [
      "Aptenodytes forsteri\n",
      "Aquila chrysaeetus\n",
      "Athene cunicularia\n",
      "Balaenoptera musculus\n",
      "Canis lupus\n",
      "Canis lupus familiaris\n",
      "Elephas maximus\n",
      "Felis catus\n",
      "Giraffa camelopardalis\n",
      "Gorilla gorilla\n",
      "Loxodonta africana\n",
      "Micrurus spp.\n",
      "Orcinus orca\n",
      "Pan troglodytes\n",
      "Panthera leo\n",
      "Panthera onca\n",
      "Panthera tigris\n",
      "Struthio camelus\n",
      "Tursiops truncatus\n",
      "Vulpes vulpes\n"
     ]
    }
   ],
   "source": [
    "# Etapa - 2\n",
    "import csv\n",
    "animais = [\"Panthera leo\",\n",
    "    \"Panthera tigris\",\n",
    "    \"Panthera onca\",\n",
    "    \"Felis catus\",\n",
    "    \"Canis lupus familiaris\",\n",
    "    \"Canis lupus\",\n",
    "    \"Vulpes vulpes\",\n",
    "    \"Loxodonta africana\",\n",
    "    \"Elephas maximus\",\n",
    "    \"Giraffa camelopardalis\",\n",
    "    \"Gorilla gorilla\",\n",
    "    \"Pan troglodytes\",\n",
    "    \"Orcinus orca\",\n",
    "    \"Balaenoptera musculus\",\n",
    "    \"Tursiops truncatus\",\n",
    "    \"Struthio camelus\",\n",
    "    \"Aptenodytes forsteri\",\n",
    "    \"Aquila chrysaeetus\",\n",
    "    \"Athene cunicularia\",\n",
    "    \"Micrurus spp.\"]\n",
    "\n",
    "animais_ordenados = sorted(animais)\n",
    "\n",
    "for animal in animais_ordenados:\n",
    "    print(animal)\n",
    "\n",
    "with open('animais.csv', 'w', newline = '') as csvfile:\n",
    "    writer = csv.writer(csvfile)\n",
    "    for animal in animais_ordenados:\n",
    "        writer.writerow([animal])"
   ]
  },
  {
   "cell_type": "code",
   "execution_count": 6,
   "id": "d5a77686-d443-45ca-9345-e065bcb03045",
   "metadata": {},
   "outputs": [
    {
     "name": "stdout",
     "output_type": "stream",
     "text": [
      "Gerando 10000000 nomes aleatórios.\n"
     ]
    }
   ],
   "source": [
    "# Etapa - 3\n",
    "import names\n",
    "import random\n",
    "import os\n",
    "import time\n",
    "\n",
    "random.seed(40)\n",
    "qtd_nomes_unicos = 3000\n",
    "qtd_nomes_aleatorios = 10000000\n",
    "\n",
    "aux = []\n",
    "\n",
    "for i in range(0, qtd_nomes_unicos):\n",
    "    aux.append(names.get_full_name())\n",
    "\n",
    "print(f\"Gerando {qtd_nomes_aleatorios} nomes aleatórios.\")\n",
    "\n",
    "dados = []\n",
    "for i in range(0, qtd_nomes_aleatorios):\n",
    "    dados.append(random.choice(aux))\n",
    "\n",
    "with open('nomes_aleatorios.txt', 'w') as txtfile:\n",
    "    for nome in dados:\n",
    "        txtfile.write(nome + '\\n')"
   ]
  },
  {
   "cell_type": "code",
   "execution_count": 53,
   "id": "9fd34b91-9c29-4a3b-bc2b-6d21f2656636",
   "metadata": {},
   "outputs": [],
   "source": []
  },
  {
   "cell_type": "code",
   "execution_count": 54,
   "id": "24021b99-0f86-4213-af90-e8cef2b9b485",
   "metadata": {},
   "outputs": [
    {
     "name": "stdout",
     "output_type": "stream",
     "text": [
      "Gerando 10000000 nomes aleatórios\n"
     ]
    }
   ],
   "source": []
  },
  {
   "cell_type": "code",
   "execution_count": 59,
   "id": "c5623105-5bb4-4e56-bb23-7e4908053346",
   "metadata": {},
   "outputs": [],
   "source": []
  }
 ],
 "metadata": {
  "kernelspec": {
   "display_name": "Python 3 (ipykernel)",
   "language": "python",
   "name": "python3"
  },
  "language_info": {
   "codemirror_mode": {
    "name": "ipython",
    "version": 3
   },
   "file_extension": ".py",
   "mimetype": "text/x-python",
   "name": "python",
   "nbconvert_exporter": "python",
   "pygments_lexer": "ipython3",
   "version": "3.12.3"
  }
 },
 "nbformat": 4,
 "nbformat_minor": 5
}
